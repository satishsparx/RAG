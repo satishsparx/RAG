{
 "cells": [
  {
   "cell_type": "markdown",
   "id": "856fcba6",
   "metadata": {},
   "source": [
    "## Load Pdf files"
   ]
  },
  {
   "cell_type": "code",
   "execution_count": 1,
   "id": "5db2d1e6",
   "metadata": {},
   "outputs": [],
   "source": [
    "from langchain_community.document_loaders import(\n",
    "    PyPDFLoader,\n",
    "    PyMuPDFLoader,\n",
    "    UnstructuredPDFLoader\n",
    ")"
   ]
  },
  {
   "cell_type": "code",
   "execution_count": null,
   "id": "0bd2cd49",
   "metadata": {},
   "outputs": [
    {
     "name": "stdout",
     "output_type": "stream",
     "text": [
      "PypdfLoader\n",
      " Loaded 16 pages\n",
      " Page 1 content: © Authors. Terms and conditions of Creative Commons Attribution 4.0 International (CC BY 4.0) apply....\n",
      " Metadata: {'producer': 'Adobe PDF Library 15.0', 'creator': 'Acrobat PDFMaker 17 for Word', 'creationdate': '2017-10-27T14:12:15+03:00', 'author': '', 'comments': '', 'company': '', 'keywords': '', 'moddate': '2017-10-27T14:12:21+03:00', 'sourcemodified': 'D:20171027111205', 'subject': '', 'title': '', 'source': 'data/pdf/contextual_learning.pdf', 'total_pages': 16, 'page': 0, 'page_label': '1'}\n"
     ]
    }
   ],
   "source": [
    "## PyPDFLoader\n",
    "\n",
    "print(\"PypdfLoader\")\n",
    "\n",
    "try:\n",
    "    pdf_loader = PyPDFLoader(\"data/pdf/contextual_learning.pdf\")\n",
    "    pdf_docs = pdf_loader.load()\n",
    "\n",
    "    print(f\" Loaded {len(pdf_docs)} pages\")\n",
    "    print(f\" Page 1 content: {pdf_docs[0].page_content[:100]}...\")\n",
    "    print(f\" Metadata: {pdf_docs[0].metadata}\")\n",
    "\n",
    "except Exception as e:\n",
    "    print(f\"Error: {e}\")\n"
   ]
  },
  {
   "cell_type": "code",
   "execution_count": 11,
   "id": "febd4e21",
   "metadata": {},
   "outputs": [
    {
     "name": "stdout",
     "output_type": "stream",
     "text": [
      "PyMuPDFLoader\n",
      " Loaded 16 pages\n",
      " Page 1 content: © Authors. Terms and conditions of Creative Commons Attribution 4.0 International (CC BY 4.0) apply....\n",
      " Metadata: {'producer': 'Adobe PDF Library 15.0', 'creator': 'Acrobat PDFMaker 17 for Word', 'creationdate': '2017-10-27T14:12:15+03:00', 'source': 'data/pdf/contextual_learning.pdf', 'file_path': 'data/pdf/contextual_learning.pdf', 'total_pages': 16, 'format': 'PDF 1.5', 'title': '', 'author': '', 'subject': '', 'keywords': '', 'moddate': '2017-10-27T14:12:21+03:00', 'trapped': '', 'modDate': \"D:20171027141221+03'00'\", 'creationDate': \"D:20171027141215+03'00'\", 'page': 0}\n"
     ]
    }
   ],
   "source": [
    "## PyMuPDFLoader (Fast and accurate)\n",
    "\n",
    "print(\"PyMuPDFLoader\")\n",
    "\n",
    "try:\n",
    "    pymupdf_loader = PyMuPDFLoader(\"data/pdf/contextual_learning.pdf\")\n",
    "    pymupdf_docs = pymupdf_loader.load()\n",
    "\n",
    "    print(f\" Loaded {len(pymupdf_docs)} pages\")\n",
    "    print(f\" Page 1 content: {pymupdf_docs[0].page_content[:100]}...\")\n",
    "    print(f\" Metadata: {pymupdf_docs[0].metadata}\")\n",
    "except Exception as e:\n",
    "    print(f\"Error: {e}\")\n"
   ]
  },
  {
   "cell_type": "code",
   "execution_count": null,
   "id": "f8dac342",
   "metadata": {},
   "outputs": [],
   "source": []
  }
 ],
 "metadata": {
  "kernelspec": {
   "display_name": "rag",
   "language": "python",
   "name": "python3"
  },
  "language_info": {
   "codemirror_mode": {
    "name": "ipython",
    "version": 3
   },
   "file_extension": ".py",
   "mimetype": "text/x-python",
   "name": "python",
   "nbconvert_exporter": "python",
   "pygments_lexer": "ipython3",
   "version": "3.13.5"
  }
 },
 "nbformat": 4,
 "nbformat_minor": 5
}
