{
 "cells": [
  {
   "cell_type": "markdown",
   "id": "856fcba6",
   "metadata": {},
   "source": [
    "## Load Pdf files"
   ]
  },
  {
   "cell_type": "code",
   "execution_count": 1,
   "id": "5db2d1e6",
   "metadata": {},
   "outputs": [],
   "source": [
    "from langchain_community.document_loaders import(\n",
    "    PyPDFLoader,\n",
    "    PyMuPDFLoader,\n",
    "    UnstructuredPDFLoader\n",
    ")"
   ]
  },
  {
   "cell_type": "code",
   "execution_count": null,
   "id": "0bd2cd49",
   "metadata": {},
   "outputs": [
    {
     "name": "stdout",
     "output_type": "stream",
     "text": [
      "PypdfLoader\n",
      " Loaded 16 pages\n",
      " Page 1 content: © Authors. Terms and conditions of Creative Commons Attribution 4.0 International (CC BY 4.0) apply....\n",
      " Metadata: {'producer': 'Adobe PDF Library 15.0', 'creator': 'Acrobat PDFMaker 17 for Word', 'creationdate': '2017-10-27T14:12:15+03:00', 'author': '', 'comments': '', 'company': '', 'keywords': '', 'moddate': '2017-10-27T14:12:21+03:00', 'sourcemodified': 'D:20171027111205', 'subject': '', 'title': '', 'source': 'data/pdf/contextual_learning.pdf', 'total_pages': 16, 'page': 0, 'page_label': '1'}\n"
     ]
    }
   ],
   "source": [
    "## PyPDFLoader\n",
    "\n",
    "print(\"PypdfLoader\")\n",
    "\n",
    "try:\n",
    "    pdf_loader = PyPDFLoader(\"data/pdf/contextual_learning.pdf\")\n",
    "    pdf_docs = pdf_loader.load()\n",
    "\n",
    "    print(f\" Loaded {len(pdf_docs)} pages\")\n",
    "    print(f\" Page 1 content: {pdf_docs[0].page_content[:100]}...\")\n",
    "    print(f\" Metadata: {pdf_docs[0].metadata}\")\n",
    "\n",
    "except Exception as e:\n",
    "    print(f\"Error: {e}\")\n"
   ]
  },
  {
   "cell_type": "code",
   "execution_count": 11,
   "id": "febd4e21",
   "metadata": {},
   "outputs": [
    {
     "name": "stdout",
     "output_type": "stream",
     "text": [
      "PyMuPDFLoader\n",
      " Loaded 16 pages\n",
      " Page 1 content: © Authors. Terms and conditions of Creative Commons Attribution 4.0 International (CC BY 4.0) apply....\n",
      " Metadata: {'producer': 'Adobe PDF Library 15.0', 'creator': 'Acrobat PDFMaker 17 for Word', 'creationdate': '2017-10-27T14:12:15+03:00', 'source': 'data/pdf/contextual_learning.pdf', 'file_path': 'data/pdf/contextual_learning.pdf', 'total_pages': 16, 'format': 'PDF 1.5', 'title': '', 'author': '', 'subject': '', 'keywords': '', 'moddate': '2017-10-27T14:12:21+03:00', 'trapped': '', 'modDate': \"D:20171027141221+03'00'\", 'creationDate': \"D:20171027141215+03'00'\", 'page': 0}\n"
     ]
    }
   ],
   "source": [
    "## PyMuPDFLoader (Fast and accurate)\n",
    "\n",
    "print(\"PyMuPDFLoader\")\n",
    "\n",
    "try:\n",
    "    pymupdf_loader = PyMuPDFLoader(\"data/pdf/contextual_learning.pdf\")\n",
    "    pymupdf_docs = pymupdf_loader.load()\n",
    "\n",
    "    print(f\" Loaded {len(pymupdf_docs)} pages\")\n",
    "    print(f\" Page 1 content: {pymupdf_docs[0].page_content[:100]}...\")\n",
    "    print(f\" Metadata: {pymupdf_docs[0].metadata}\")\n",
    "except Exception as e:\n",
    "    print(f\"Error: {e}\")\n"
   ]
  },
  {
   "cell_type": "code",
   "execution_count": 14,
   "id": "f8dac342",
   "metadata": {},
   "outputs": [],
   "source": [
    "from langchain_community.document_loaders import PyPDFLoader\n",
    "from langchain.text_splitter import RecursiveCharacterTextSplitter"
   ]
  },
  {
   "cell_type": "code",
   "execution_count": 25,
   "id": "ffec37f5",
   "metadata": {},
   "outputs": [],
   "source": [
    "from typing import List\n",
    "from langchain_core.documents import Document\n",
    "class SmartPDFProcessor:\n",
    "    def __init__(self, chunk_size=1000, chunk_overlap=100):\n",
    "        self.chunk_size = chunk_size\n",
    "        self.chunk_overlap = chunk_overlap\n",
    "        self.text_splitter = RecursiveCharacterTextSplitter(\n",
    "            chunk_size = chunk_size,\n",
    "            chunk_overlap = chunk_overlap,\n",
    "            separators = [\" \"]\n",
    "        )\n",
    "\n",
    "    def process_pdf(self, pdf_path: str) -> List[Document]:\n",
    "        \"\"\" Process PDF with smart chunking and metadata enhancement\"\"\"\n",
    "        loader = PyPDFLoader(pdf_path)\n",
    "        pages = loader.load() \n",
    "\n",
    "        ## Process each page\n",
    "        processed_chunks = []\n",
    "\n",
    "        for page_num, page in enumerate(pages):\n",
    "            ## Clean Text\n",
    "            cleaned_text = self._clean_text(page.page_content)\n",
    "\n",
    "            ## Skip nearly empty pages\n",
    "\n",
    "            if len(cleaned_text.strip()) < 50:\n",
    "                continue\n",
    "\n",
    "            # Create chunks with enhanced metadata\n",
    "            chunks = self.text_splitter.create_documents(\n",
    "                texts=[cleaned_text],\n",
    "                metadatas=[{\n",
    "                    **page.metadata,\n",
    "                    \"page\": page_num + 1,\n",
    "                    \"total_pages\": len(pages),\n",
    "                    \"chunk_method\": \"smart_pdf_processor\",\n",
    "                    \"char_count\": len(cleaned_text)\n",
    "                }]\n",
    "            )\n",
    "\n",
    "            processed_chunks.extend(chunks)\n",
    "        \n",
    "        return processed_chunks\n",
    "\n",
    "    def _clean_text(self, text:str) -> str:\n",
    "        \"\"\"Clean Extracted text\"\"\"\n",
    "        text = \" \".join(text.split())\n",
    "\n",
    "        # Fix common PDF extraction issues\n",
    "        text = text.replace(\"fi\", \"fi\")\n",
    "        text = text.replace(\"fl\", \"fl\")\n",
    "\n",
    "        return text     \n"
   ]
  },
  {
   "cell_type": "code",
   "execution_count": 28,
   "id": "04d67f16",
   "metadata": {},
   "outputs": [],
   "source": [
    "preprocessor = SmartPDFProcessor()"
   ]
  },
  {
   "cell_type": "code",
   "execution_count": 31,
   "id": "11568876",
   "metadata": {},
   "outputs": [
    {
     "name": "stdout",
     "output_type": "stream",
     "text": [
      "Processed into 77 smart chunks\n",
      "\n",
      " Sample Chunk metadata:\n",
      " producer: Adobe PDF Library 15.0\n",
      " creator: Acrobat PDFMaker 17 for Word\n",
      " creationdate: 2017-10-27T14:12:15+03:00\n",
      " author: \n",
      " comments: \n",
      " company: \n",
      " keywords: \n",
      " moddate: 2017-10-27T14:12:21+03:00\n",
      " sourcemodified: D:20171027111205\n",
      " subject: \n",
      " title: \n",
      " source: data/pdf/contextual_learning.pdf\n",
      " total_pages: 16\n",
      " page: 1\n",
      " page_label: 1\n",
      " chunk_method: smart_pdf_processor\n",
      " char_count: 3886\n"
     ]
    }
   ],
   "source": [
    "## Process a PDF if available\n",
    "\n",
    "try:\n",
    "    smart_chunks = preprocessor.process_pdf(\"data/pdf/contextual_learning.pdf\")\n",
    "    print(f\"Processed into {len(smart_chunks)} smart chunks\")\n",
    "\n",
    "    # Show enhanced metadata\n",
    "\n",
    "    if smart_chunks:\n",
    "        print(\"\\n Sample Chunk metadata:\")\n",
    "\n",
    "        for key, value in smart_chunks[0].metadata.items():\n",
    "            print(f\" {key}: {value}\")\n",
    "\n",
    "except Exception as e:\n",
    "    print(f\"Processing error: {e}\")"
   ]
  },
  {
   "cell_type": "code",
   "execution_count": null,
   "id": "0f4f5b9a",
   "metadata": {},
   "outputs": [],
   "source": []
  }
 ],
 "metadata": {
  "kernelspec": {
   "display_name": "RAG",
   "language": "python",
   "name": "python3"
  },
  "language_info": {
   "codemirror_mode": {
    "name": "ipython",
    "version": 3
   },
   "file_extension": ".py",
   "mimetype": "text/x-python",
   "name": "python",
   "nbconvert_exporter": "python",
   "pygments_lexer": "ipython3",
   "version": "3.13.5"
  }
 },
 "nbformat": 4,
 "nbformat_minor": 5
}
