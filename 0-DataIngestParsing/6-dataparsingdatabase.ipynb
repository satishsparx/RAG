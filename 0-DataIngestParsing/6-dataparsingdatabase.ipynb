{
 "cells": [
  {
   "cell_type": "markdown",
   "id": "8db2a1cd",
   "metadata": {},
   "source": [
    "## SQL Databases"
   ]
  },
  {
   "cell_type": "code",
   "execution_count": 3,
   "id": "6e6ca4a4",
   "metadata": {},
   "outputs": [],
   "source": [
    "## Create a sample SQLite Database\n",
    "\n",
    "import sqlite3\n",
    "import os\n",
    "\n",
    "os.makedirs('data/databases', exist_ok=True)"
   ]
  },
  {
   "cell_type": "markdown",
   "id": "b19ea29f",
   "metadata": {},
   "source": []
  },
  {
   "cell_type": "code",
   "execution_count": 4,
   "id": "dfef75cf",
   "metadata": {},
   "outputs": [],
   "source": [
    "# Create sample database\n",
    "\n",
    "conn = sqlite3.connect('data/databases/company.db')\n",
    "cursor = conn.cursor()\n"
   ]
  },
  {
   "cell_type": "code",
   "execution_count": 5,
   "id": "30814256",
   "metadata": {},
   "outputs": [
    {
     "data": {
      "text/plain": [
       "<sqlite3.Cursor at 0x109678cc0>"
      ]
     },
     "execution_count": 5,
     "metadata": {},
     "output_type": "execute_result"
    }
   ],
   "source": [
    "# Create tables\n",
    "\n",
    "cursor.execute('''CREATE TABLE IF NOT EXISTS employees\n",
    "               (id INTEGER PRIMARY KEY, name TEXT, role TEXT, department TEXT, salary REAL)''')"
   ]
  },
  {
   "cell_type": "code",
   "execution_count": 6,
   "id": "040ca22f",
   "metadata": {},
   "outputs": [
    {
     "data": {
      "text/plain": [
       "<sqlite3.Cursor at 0x109678cc0>"
      ]
     },
     "execution_count": 6,
     "metadata": {},
     "output_type": "execute_result"
    }
   ],
   "source": [
    "cursor.execute('''CREATE TABLE IF NOT EXISTS projects\n",
    "               (id INTEGER PRIMARY KEY, name TEXT, status TEXT, budget REAL, lead_id INTEGER)''')"
   ]
  },
  {
   "cell_type": "code",
   "execution_count": 7,
   "id": "f24b5943",
   "metadata": {},
   "outputs": [],
   "source": [
    "# Insert sample data\n",
    "employees = [\n",
    "    (1, 'John Doe', 'Senior Developer', 'Engineering', 95000),\n",
    "    (2, 'Jane Smith', 'Data Scientist', 'Analytics', 105000),\n",
    "    (3, 'Mike Johnson', 'Product Manager', 'Product', 110000),\n",
    "    (4, 'Sarah Williams', 'DevOps Engineer', 'Engineering', 98000)\n",
    "]\n",
    "\n",
    "projects = [\n",
    "    (1, 'RAG Implementation', 'Active', 150000, 1),\n",
    "    (2, 'Data Pipeline', 'Completed', 80000, 2),\n",
    "    (3, 'Customer Portal', 'Planning', 200000, 3),\n",
    "    (4, 'ML Platform', 'Active', 250000, 2)\n",
    "]"
   ]
  },
  {
   "cell_type": "code",
   "execution_count": 8,
   "id": "b3546c46",
   "metadata": {},
   "outputs": [
    {
     "data": {
      "text/plain": [
       "<sqlite3.Cursor at 0x109678cc0>"
      ]
     },
     "execution_count": 8,
     "metadata": {},
     "output_type": "execute_result"
    }
   ],
   "source": [
    "cursor.executemany('INSERT OR REPLACE INTO employees VALUES(?,?,?,?,?)', employees)"
   ]
  },
  {
   "cell_type": "code",
   "execution_count": 9,
   "id": "e88d5b44",
   "metadata": {},
   "outputs": [
    {
     "data": {
      "text/plain": [
       "<sqlite3.Cursor at 0x109678cc0>"
      ]
     },
     "execution_count": 9,
     "metadata": {},
     "output_type": "execute_result"
    }
   ],
   "source": [
    "cursor.executemany('INSERT OR REPLACE INTO PROJECTS VALUES(?,?,?,?,?)', projects)"
   ]
  },
  {
   "cell_type": "code",
   "execution_count": 10,
   "id": "d93938a1",
   "metadata": {},
   "outputs": [
    {
     "data": {
      "text/plain": [
       "<sqlite3.Cursor at 0x109678cc0>"
      ]
     },
     "execution_count": 10,
     "metadata": {},
     "output_type": "execute_result"
    }
   ],
   "source": [
    "cursor.execute(\"select * from employees\")"
   ]
  },
  {
   "cell_type": "code",
   "execution_count": 12,
   "id": "8a36de76",
   "metadata": {},
   "outputs": [],
   "source": [
    "conn.commit()\n",
    "conn.close()"
   ]
  },
  {
   "cell_type": "markdown",
   "id": "6ba67447",
   "metadata": {},
   "source": [
    "### Database content extraction"
   ]
  },
  {
   "cell_type": "code",
   "execution_count": 14,
   "id": "8ac3c412",
   "metadata": {},
   "outputs": [],
   "source": [
    "from langchain_community.utilities import SQLDatabase\n",
    "from langchain_community.document_loaders import SQLDatabaseLoader"
   ]
  },
  {
   "cell_type": "code",
   "execution_count": 18,
   "id": "15843dab",
   "metadata": {},
   "outputs": [
    {
     "name": "stdout",
     "output_type": "stream",
     "text": [
      "Tables: ['employees', 'projects']\n",
      "\n",
      "Table DDL:\n",
      "\n",
      "CREATE TABLE employees (\n",
      "\tid INTEGER, \n",
      "\tname TEXT, \n",
      "\trole TEXT, \n",
      "\tdepartment TEXT, \n",
      "\tsalary REAL, \n",
      "\tPRIMARY KEY (id)\n",
      ")\n",
      "\n",
      "/*\n",
      "3 rows from employees table:\n",
      "id\tname\trole\tdepartment\tsalary\n",
      "1\tJohn Doe\tSenior Developer\tEngineering\t95000.0\n",
      "2\tJane Smith\tData Scientist\tAnalytics\t105000.0\n",
      "3\tMike Johnson\tProduct Manager\tProduct\t110000.0\n",
      "*/\n",
      "\n",
      "\n",
      "CREATE TABLE projects (\n",
      "\tid INTEGER, \n",
      "\tname TEXT, \n",
      "\tstatus TEXT, \n",
      "\tbudget REAL, \n",
      "\tlead_id INTEGER, \n",
      "\tPRIMARY KEY (id)\n",
      ")\n",
      "\n",
      "/*\n",
      "3 rows from projects table:\n",
      "id\tname\tstatus\tbudget\tlead_id\n",
      "1\tRAG Implementation\tActive\t150000.0\t1\n",
      "2\tData Pipeline\tCompleted\t80000.0\t2\n",
      "3\tCustomer Portal\tPlanning\t200000.0\t3\n",
      "*/\n"
     ]
    }
   ],
   "source": [
    "# Method 1: SQLDATABASE utility\n",
    "db = SQLDatabase.from_uri('sqlite:///data/databases/company.db')\n",
    "\n",
    "## get database info\n",
    "print(f\"Tables: {db.get_usable_table_names()}\")\n",
    "print(f\"\\nTable DDL:\")\n",
    "print(db.get_table_info())"
   ]
  },
  {
   "cell_type": "code",
   "execution_count": 30,
   "id": "b63ab3e6",
   "metadata": {},
   "outputs": [
    {
     "name": "stdout",
     "output_type": "stream",
     "text": [
      "\n",
      " Custom SQL Processing\n"
     ]
    }
   ],
   "source": [
    "from typing import List\n",
    "from langchain_core.documents import Document\n",
    "\n",
    "## Method 2: Custom SQL to Document Conversion\n",
    "print(\"\\n Custom SQL Processing\")\n",
    "\n",
    "def sql_to_documents(db_path: str)-> List[Document]:\n",
    "    \"\"\"Convert SQL Database to documents with context\"\"\"\n",
    "    conn = sqlite3.connect(db_path)\n",
    "    cursor = conn.cursor()\n",
    "    documents = []\n",
    "\n",
    "    # Strategy 1: Create documents for each table\n",
    "    cursor.execute(\"SELECT name from sqlite_master where type='table';\")\n",
    "    tables = cursor.fetchall()\n",
    "\n",
    "    for table in tables:\n",
    "        table_name = table[0]\n",
    "        \n",
    "        # Get table schema\n",
    "        cursor.execute(f\"PRAGMA table_info({table_name});\")\n",
    "        columns = cursor.fetchall()\n",
    "        column_names = [col[1] for col in columns]\n",
    "        \n",
    "        # Get table data\n",
    "        cursor.execute(f\"SELECT * FROM {table_name}\")\n",
    "        rows = cursor.fetchall()\n",
    "        \n",
    "        # Create table overview document\n",
    "        table_content = f\"Table: {table_name}\\n\"\n",
    "        table_content += f\"Columns: {', '.join(column_names)}\\n\"\n",
    "        table_content += f\"Total Records: {len(rows)}\\n\\n\"\n",
    "        \n",
    "        # Add sample records\n",
    "        table_content += \"Sample Records:\\n\"\n",
    "        for row in rows[:5]:  # First 5 records\n",
    "            record = dict(zip(column_names, row))\n",
    "            table_content += f\"{record}\\n\"\n",
    "        \n",
    "        doc = Document(\n",
    "            page_content=table_content,\n",
    "            metadata={\n",
    "                'source': db_path,\n",
    "                'table_name': table_name,\n",
    "                'num_records': len(rows),\n",
    "                'data_type': 'sql_table'\n",
    "            }\n",
    "        )\n",
    "        documents.append(doc)\n",
    "\n",
    "    conn.close()\n",
    "\n",
    "    return documents\n"
   ]
  },
  {
   "cell_type": "code",
   "execution_count": 31,
   "id": "3fc36806",
   "metadata": {},
   "outputs": [
    {
     "data": {
      "text/plain": [
       "[Document(metadata={'source': 'data/databases/company.db', 'table_name': 'employees', 'num_records': 4, 'data_type': 'sql_table'}, page_content=\"Table: employees\\nColumns: id, name, role, department, salary\\nTotal Records: 4\\n\\nSample Records:\\n{'id': 1, 'name': 'John Doe', 'role': 'Senior Developer', 'department': 'Engineering', 'salary': 95000.0}\\n{'id': 2, 'name': 'Jane Smith', 'role': 'Data Scientist', 'department': 'Analytics', 'salary': 105000.0}\\n{'id': 3, 'name': 'Mike Johnson', 'role': 'Product Manager', 'department': 'Product', 'salary': 110000.0}\\n{'id': 4, 'name': 'Sarah Williams', 'role': 'DevOps Engineer', 'department': 'Engineering', 'salary': 98000.0}\\n\"),\n",
       " Document(metadata={'source': 'data/databases/company.db', 'table_name': 'projects', 'num_records': 4, 'data_type': 'sql_table'}, page_content=\"Table: projects\\nColumns: id, name, status, budget, lead_id\\nTotal Records: 4\\n\\nSample Records:\\n{'id': 1, 'name': 'RAG Implementation', 'status': 'Active', 'budget': 150000.0, 'lead_id': 1}\\n{'id': 2, 'name': 'Data Pipeline', 'status': 'Completed', 'budget': 80000.0, 'lead_id': 2}\\n{'id': 3, 'name': 'Customer Portal', 'status': 'Planning', 'budget': 200000.0, 'lead_id': 3}\\n{'id': 4, 'name': 'ML Platform', 'status': 'Active', 'budget': 250000.0, 'lead_id': 2}\\n\")]"
      ]
     },
     "execution_count": 31,
     "metadata": {},
     "output_type": "execute_result"
    }
   ],
   "source": [
    "sql_to_documents('data/databases/company.db')"
   ]
  },
  {
   "cell_type": "code",
   "execution_count": null,
   "id": "e418f7b0",
   "metadata": {},
   "outputs": [],
   "source": []
  }
 ],
 "metadata": {
  "kernelspec": {
   "display_name": "RAG",
   "language": "python",
   "name": "python3"
  },
  "language_info": {
   "codemirror_mode": {
    "name": "ipython",
    "version": 3
   },
   "file_extension": ".py",
   "mimetype": "text/x-python",
   "name": "python",
   "nbconvert_exporter": "python",
   "pygments_lexer": "ipython3",
   "version": "3.13.5"
  }
 },
 "nbformat": 4,
 "nbformat_minor": 5
}
