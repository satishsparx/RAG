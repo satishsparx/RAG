{
 "cells": [
  {
   "cell_type": "markdown",
   "id": "0c47a1f3",
   "metadata": {},
   "source": [
    "### Word Document Processing\n"
   ]
  },
  {
   "cell_type": "code",
   "execution_count": 2,
   "id": "6ff3dffa",
   "metadata": {},
   "outputs": [],
   "source": [
    "from langchain_community.document_loaders import Docx2txtLoader, UnstructuredWordDocumentLoader"
   ]
  },
  {
   "cell_type": "code",
   "execution_count": 6,
   "id": "9436de7f",
   "metadata": {},
   "outputs": [
    {
     "name": "stdout",
     "output_type": "stream",
     "text": [
      " Using DocxtxtLoader\n",
      " Loaded 1 documents...\n",
      "Content Preview: Project Proposal: RAG Implementation\n",
      "\n",
      "Executive Summary\n",
      "\n",
      "This proposal outlines the implementation of a Retrieval-Augmented Generation system for our organization.\n",
      "\n",
      "Objectives\n",
      "\n",
      "Key objectives include:...\n",
      "Metadata: {'source': 'data/word_files/proposal.docx'}\n"
     ]
    }
   ],
   "source": [
    "## Method 1: Using Docx2txtLoader\n",
    "print(\" Using DocxtxtLoader\")\n",
    "\n",
    "try:\n",
    "    docx_loader = Docx2txtLoader(\"data/word_files/proposal.docx\")\n",
    "    docs = docx_loader.load()\n",
    "\n",
    "    print(f\" Loaded {len(docs)} documents...\")\n",
    "    print(f\"Content Preview: {docs[0].page_content[:200]}...\")\n",
    "    print(f\"Metadata: {docs[0].metadata}\")\n",
    "except Exception as e:\n",
    "    print(f\"Error: {e}\")"
   ]
  },
  {
   "cell_type": "code",
   "execution_count": 10,
   "id": "0ca2959d",
   "metadata": {},
   "outputs": [
    {
     "name": "stdout",
     "output_type": "stream",
     "text": [
      " Using UnstructuredWordDocumentLoader\n",
      " Loaded 20 documents...\n",
      "\n",
      " Element 1\n",
      "Type: Title\n",
      "Content: Project Proposal: RAG Implementation...\n",
      "\n",
      " Element 2\n",
      "Type: Title\n",
      "Content: Executive Summary...\n",
      "\n",
      " Element 3\n",
      "Type: NarrativeText\n",
      "Content: This proposal outlines the implementation of a Retrieval-Augmented Generation system for our organiz...\n"
     ]
    }
   ],
   "source": [
    "## Method 2: Using UnstructuredWordDocumentLoader\n",
    "\n",
    "print(\" Using UnstructuredWordDocumentLoader\")\n",
    "\n",
    "try:\n",
    "    unstructured_loader = UnstructuredWordDocumentLoader(\"data/word_files/proposal.docx\", mode=\"elements\") # mode is to preserve the structure of the document\n",
    "    unstructured_docs = unstructured_loader.load()\n",
    "\n",
    "    print(f\" Loaded {len(unstructured_docs)} documents...\")\n",
    "\n",
    "    for i, doc in enumerate(unstructured_docs[:3]):\n",
    "        print(f\"\\n Element {i+1}\")\n",
    "        print(f\"Type: {doc.metadata.get('category', 'unknown')}\")\n",
    "        print(f\"Content: {doc.page_content[:100]}...\")\n",
    "\n",
    "except Exception as e:\n",
    "    print(f\"Error: {e}\")"
   ]
  },
  {
   "cell_type": "code",
   "execution_count": null,
   "id": "b9daa8b1",
   "metadata": {},
   "outputs": [],
   "source": []
  }
 ],
 "metadata": {
  "kernelspec": {
   "display_name": "rag",
   "language": "python",
   "name": "python3"
  },
  "language_info": {
   "codemirror_mode": {
    "name": "ipython",
    "version": 3
   },
   "file_extension": ".py",
   "mimetype": "text/x-python",
   "name": "python",
   "nbconvert_exporter": "python",
   "pygments_lexer": "ipython3",
   "version": "3.13.5"
  }
 },
 "nbformat": 4,
 "nbformat_minor": 5
}
